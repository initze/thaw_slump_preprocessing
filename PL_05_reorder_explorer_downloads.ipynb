{
 "cells": [
  {
   "cell_type": "markdown",
   "metadata": {},
   "source": [
    "## Script to reorder downloads from Planet Explorer"
   ]
  },
  {
   "cell_type": "code",
   "execution_count": null,
   "metadata": {},
   "outputs": [],
   "source": [
    "import modules.order_utils as util\n",
    "import glob\n",
    "import os\n",
    "import shutil\n",
    "from pathlib import Path\n",
    "import tqdm\n",
    "import numpy as np\n",
    "import zipfile"
   ]
  },
  {
   "cell_type": "markdown",
   "metadata": {},
   "source": [
    "#### ToDo\n",
    "* speed up, so far it's mega slow"
   ]
  },
  {
   "cell_type": "markdown",
   "metadata": {},
   "source": [
    "### Settings\n",
    "Setup data location paths"
   ]
  },
  {
   "cell_type": "code",
   "execution_count": null,
   "metadata": {},
   "outputs": [],
   "source": [
    "# Directory where to store the downloaded data (typically comes as directory with zipfile)\n",
    "download_dir = Path(r'')\n",
    "\n",
    "# Intermediate location where to copy downloaded files (faster unzip)\n",
    "unzip_dir = Path(r'')\n",
    "\n",
    "# Intermediate location where to store the unzipped files\n",
    "target_dir = Path(r'')\n",
    "\n",
    "# Location of final Planet data sorage with RE/PL tiles\n",
    "tiles_dir = Path(r'')"
   ]
  },
  {
   "cell_type": "code",
   "execution_count": null,
   "metadata": {},
   "outputs": [],
   "source": [
    "DIR = download_dir# / dl_name"
   ]
  },
  {
   "cell_type": "markdown",
   "metadata": {},
   "source": [
    "#### Check if tile exists\n",
    "* add sorting by dl date"
   ]
  },
  {
   "cell_type": "code",
   "execution_count": null,
   "metadata": {},
   "outputs": [],
   "source": [
    "zipfiles = list(DIR.glob('*/*.zip'))"
   ]
  },
  {
   "cell_type": "code",
   "execution_count": null,
   "metadata": {},
   "outputs": [],
   "source": [
    "COPY = 0\n",
    "for z in zipfiles:\n",
    "    if not util.check_zipcontent_exists(z, tiles_dir):\n",
    "        print(util.check_zipcontent_exists(z, tiles_dir), z.stem, )\n",
    "        if COPY:\n",
    "            shutil.copy(z, unzip_dir)"
   ]
  },
  {
   "cell_type": "markdown",
   "metadata": {},
   "source": [
    "#### Unzip files "
   ]
  },
  {
   "cell_type": "code",
   "execution_count": null,
   "metadata": {},
   "outputs": [],
   "source": [
    "#unzipfiles = list(unzip_dir.glob('*/*.zip'))\n",
    "unzipfiles = list(unzip_dir.glob('*.zip'))"
   ]
  },
  {
   "cell_type": "code",
   "execution_count": null,
   "metadata": {},
   "outputs": [],
   "source": [
    "list(unzip_dir.glob('*.zip'))"
   ]
  },
  {
   "cell_type": "code",
   "execution_count": null,
   "metadata": {},
   "outputs": [],
   "source": [
    "for zfile in tqdm.tqdm_notebook(unzipfiles[:]):\n",
    "    try:\n",
    "        %time util.unzip_PSOrthoTileOrder(zfile, target_dir=target_dir, cleanup_intermediate=True)\n",
    "    except:\n",
    "        continue"
   ]
  },
  {
   "cell_type": "markdown",
   "metadata": {},
   "source": [
    "#### move to tiles"
   ]
  },
  {
   "cell_type": "code",
   "execution_count": null,
   "metadata": {},
   "outputs": [],
   "source": [
    "dirlist = list(target_dir.glob('*'))"
   ]
  },
  {
   "cell_type": "code",
   "execution_count": null,
   "metadata": {},
   "outputs": [],
   "source": [
    "dirlist = [d for d in dirlist if d.is_dir()]\n",
    "dirlist = [d for d in dirlist if len(d.stem.split('_'))==4]"
   ]
  },
  {
   "cell_type": "code",
   "execution_count": null,
   "metadata": {},
   "outputs": [],
   "source": [
    "len(dirlist)"
   ]
  },
  {
   "cell_type": "code",
   "execution_count": null,
   "metadata": {},
   "outputs": [],
   "source": [
    "for d in tqdm.tqdm_notebook(dirlist[:]):\n",
    "    path_id, tile_id, date, scene_id = d.stem.split('_')\n",
    "    tile_target = tiles_dir / tile_id / d.stem\n",
    "    os.makedirs(tiles_dir / tile_id, exist_ok=True)\n",
    "    if not tile_target.exists():\n",
    "        shutil.move(str(d), str(tile_target))\n",
    "    else:\n",
    "        print(f'{str(tiles_dir / tile_id)} exists')\n",
    "    "
   ]
  },
  {
   "cell_type": "markdown",
   "metadata": {},
   "source": [
    "#### delete zipfiles "
   ]
  },
  {
   "cell_type": "code",
   "execution_count": null,
   "metadata": {},
   "outputs": [],
   "source": [
    "unzip_dir #-> Delete"
   ]
  }
 ],
 "metadata": {
  "kernelspec": {
   "display_name": "Python 3",
   "language": "python",
   "name": "python3"
  },
  "language_info": {
   "codemirror_mode": {
    "name": "ipython",
    "version": 3
   },
   "file_extension": ".py",
   "mimetype": "text/x-python",
   "name": "python",
   "nbconvert_exporter": "python",
   "pygments_lexer": "ipython3",
   "version": "3.7.0"
  }
 },
 "nbformat": 4,
 "nbformat_minor": 4
}
