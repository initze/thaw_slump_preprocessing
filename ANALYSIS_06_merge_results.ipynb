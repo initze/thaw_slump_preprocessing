{
 "cells": [
  {
   "cell_type": "code",
   "execution_count": null,
   "metadata": {},
   "outputs": [],
   "source": [
    "import geopandas as gpd\n",
    "from pathlib import Path\n",
    "import pandas as pd\n",
    "import numpy as np\n",
    "import swifter\n",
    "import matplotlib.pyplot as plt\n",
    "import rasterio\n",
    "import datetime\n",
    "import os, shutil\n",
    "from joblib import delayed, Parallel\n",
    "import tqdm"
   ]
  },
  {
   "cell_type": "markdown",
   "metadata": {},
   "source": [
    "### Settings "
   ]
  },
  {
   "cell_type": "code",
   "execution_count": null,
   "metadata": {},
   "outputs": [],
   "source": [
    "# Slumps\n",
    "INFERENCE_DIR = Path(r'Q:\\p_aicore_pf\\initze\\processed\\inference\\RTS_6Regions_V01_UnetPlusPlus_resnet34_FocalLoss_sh6_50_bs100_2021-12-04_22-27-53')\n",
    "# Pingo\n",
    "#INFERENCE_DIR = Path(r'Q:\\p_aicore_pf\\initze\\processed\\inference\\pingo_UnetPP_v1_2021-12-12_09-56-50')\n",
    "\n",
    "OUTPUT_DIR = Path(r'C:\\Users\\initze\\OneDrive\\100_AI-CORE\\16_inference_statistics')\n",
    "out_file = OUTPUT_DIR / f'{INFERENCE_DIR.stem}_merged_datasets.shp'"
   ]
  },
  {
   "cell_type": "code",
   "execution_count": null,
   "metadata": {},
   "outputs": [],
   "source": [
    "print(out_file)"
   ]
  },
  {
   "cell_type": "code",
   "execution_count": null,
   "metadata": {},
   "outputs": [],
   "source": [
    "def get_vector(f):\n",
    "    gdf = gpd.read_file(f).to_crs(epsg=4326)\n",
    "    gdf['id_local'] = gdf.index\n",
    "    gdf['dataset'] = f.stem\n",
    "    gdf['model'] = f.parts[-2]\n",
    "    split = f.stem.split('_')\n",
    "    if len(split)==4:\n",
    "        gdf[['scene', 'tile_id', 'date', 'sensor']] = split\n",
    "    else:\n",
    "        gdf[['date', 'scene', 'sensor']] = split\n",
    "    return gdf\n",
    "\n",
    "def load_dataset(f):\n",
    "    try:\n",
    "        return get_vector(f)\n",
    "    except:\n",
    "        print(f'Error on {f.stem}')"
   ]
  },
  {
   "cell_type": "markdown",
   "metadata": {},
   "source": [
    "### create filelist"
   ]
  },
  {
   "cell_type": "code",
   "execution_count": null,
   "metadata": {},
   "outputs": [],
   "source": [
    "flist = list(INFERENCE_DIR.glob('*'))"
   ]
  },
  {
   "cell_type": "markdown",
   "metadata": {},
   "source": [
    "#### Load files and add to list "
   ]
  },
  {
   "cell_type": "code",
   "execution_count": null,
   "metadata": {},
   "outputs": [],
   "source": [
    "%time ds_list = Parallel(n_jobs=10)(delayed(load_dataset)(f) for f in tqdm.tqdm_notebook(flist[:]))"
   ]
  },
  {
   "cell_type": "code",
   "execution_count": null,
   "metadata": {},
   "outputs": [],
   "source": [
    "ds_list = []\n",
    "for f in flist[:]:\n",
    "    try:\n",
    "        ds_list.append(get_vector(f))\n",
    "    except:\n",
    "        print(f'Error on {f.stem}')"
   ]
  },
  {
   "cell_type": "markdown",
   "metadata": {},
   "source": [
    "#### Merge all GDF to one "
   ]
  },
  {
   "cell_type": "code",
   "execution_count": null,
   "metadata": {},
   "outputs": [],
   "source": [
    "rdf = gpd.GeoDataFrame( pd.concat( ds_list, ignore_index=True) )"
   ]
  },
  {
   "cell_type": "markdown",
   "metadata": {},
   "source": [
    "#### Set projection (got lost during merge with pandas) "
   ]
  },
  {
   "cell_type": "code",
   "execution_count": null,
   "metadata": {},
   "outputs": [],
   "source": [
    "rdf = rdf.set_crs(epsg=4326)"
   ]
  },
  {
   "cell_type": "markdown",
   "metadata": {},
   "source": [
    "#### Calculate time variables for later analysis "
   ]
  },
  {
   "cell_type": "code",
   "execution_count": null,
   "metadata": {},
   "outputs": [],
   "source": [
    "rdf['year'] = pd.to_datetime(rdf.iloc[:]['date'], infer_datetime_format=True).dt.year\n",
    "rdf['month'] = pd.to_datetime(rdf.iloc[:]['date'], infer_datetime_format=True).dt.month\n",
    "rdf['doy'] = pd.to_datetime(rdf.iloc[:]['date'], infer_datetime_format=True).dt.day_of_year"
   ]
  },
  {
   "cell_type": "markdown",
   "metadata": {},
   "source": [
    "#### Write to file"
   ]
  },
  {
   "cell_type": "code",
   "execution_count": null,
   "metadata": {},
   "outputs": [],
   "source": [
    "rdf.to_file(out_file)"
   ]
  }
 ],
 "metadata": {
  "kernelspec": {
   "display_name": "Python 3 (ipykernel)",
   "language": "python",
   "name": "python3"
  },
  "language_info": {
   "codemirror_mode": {
    "name": "ipython",
    "version": 3
   },
   "file_extension": ".py",
   "mimetype": "text/x-python",
   "name": "python",
   "nbconvert_exporter": "python",
   "pygments_lexer": "ipython3",
   "version": "3.8.12"
  }
 },
 "nbformat": 4,
 "nbformat_minor": 4
}
