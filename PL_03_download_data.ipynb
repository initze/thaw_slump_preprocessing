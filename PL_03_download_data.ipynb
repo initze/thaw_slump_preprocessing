{
 "cells": [
  {
   "cell_type": "markdown",
   "metadata": {},
   "source": [
    "### Download Script for PlanetScope Orders"
   ]
  },
  {
   "cell_type": "markdown",
   "metadata": {},
   "source": [
    "Documentation:\n",
    "https://github.com/samapriya/porder\n",
    "\n",
    "https://github.com/tyson-swetnam/porder#order\n",
    "\n",
    "Anaconda environment: aicore_data\n",
    "* change user with ´planet init´"
   ]
  },
  {
   "cell_type": "code",
   "execution_count": null,
   "metadata": {},
   "outputs": [],
   "source": [
    "import os\n",
    "import glob\n",
    "import pandas as pd\n",
    "import shutil\n",
    "import datetime\n",
    "import warnings; warnings.simplefilter('ignore')\n",
    "import datetime\n",
    "import modules.order_utils as util\n",
    "from pathlib import Path\n",
    "import zipfile\n",
    "from tqdm.notebook import tqdm\n",
    "import numpy as np"
   ]
  },
  {
   "cell_type": "markdown",
   "metadata": {},
   "source": [
    "### Settings "
   ]
  },
  {
   "cell_type": "code",
   "execution_count": null,
   "metadata": {},
   "outputs": [],
   "source": [
    "# Set number of days to look into the past for the orders list\n",
    "DATE_RANGE = 30\n",
    "#download_dir = 'R:\\p_aicore\\AICORE\\planet_data_inference_grid\\downloads'\n",
    "download_dir = Path(r'Q:\\p_aicore_pf\\initze\\data\\planet\\planet_data_inference_grid\\downloads')\n",
    "\n",
    "# Intermediate location where to copy downloaded files (faster unzip)\n",
    "#unzip_dir = Path(r'K:\\test\\zips')\n",
    "unzip_dir = Path(r'K:\\test\\zips')\n",
    "\n",
    "# Intermediate location where to store the unzipped files\n",
    "#target_dir = Path(r'K:\\test\\target')\n",
    "target_dir = Path(r'K:\\test\\target')\n",
    "\n",
    "# Location of final Planet data sorage with RE/PL tiles\n",
    "tiles_dir = Path(r'Q:\\p_aicore_pf\\initze\\data\\planet\\planet_data_inference_grid\\tiles')"
   ]
  },
  {
   "cell_type": "markdown",
   "metadata": {},
   "source": [
    "#### Calculate timestamps for orders query "
   ]
  },
  {
   "cell_type": "code",
   "execution_count": null,
   "metadata": {},
   "outputs": [],
   "source": [
    "today = datetime.datetime.now().strftime('%Y-%m-%d')\n",
    "start = (datetime.datetime.now() - datetime.timedelta(DATE_RANGE)).strftime('%Y-%m-%d')"
   ]
  },
  {
   "cell_type": "markdown",
   "metadata": {},
   "source": [
    "#### Show list of running orders "
   ]
  },
  {
   "cell_type": "code",
   "execution_count": null,
   "metadata": {},
   "outputs": [],
   "source": [
    "running = !porder ostate --state running --start \"{start}\" --end \"{today}\"\n",
    "util.show_orders(running)"
   ]
  },
  {
   "cell_type": "markdown",
   "metadata": {},
   "source": [
    "#### Show list of successful orders "
   ]
  },
  {
   "cell_type": "code",
   "execution_count": null,
   "metadata": {},
   "outputs": [],
   "source": [
    "success = !porder ostate --state success --start \"{start}\" --end \"{today}\"\n",
    "df = util.show_orders(success)\n",
    "df.head(40)"
   ]
  },
  {
   "cell_type": "markdown",
   "metadata": {},
   "source": [
    "#### Download Order "
   ]
  },
  {
   "cell_type": "markdown",
   "metadata": {},
   "source": [
    "Select Order IDs as list or array - see table above"
   ]
  },
  {
   "cell_type": "code",
   "execution_count": null,
   "metadata": {},
   "outputs": [],
   "source": [
    "ORDERS = [0,1,2,3,4] # add order ids here - np.arange(17) for many orders\n",
    "\n",
    "for order_id in ORDERS:\n",
    "    util.download_planet_order(df, order_id, download_dir)"
   ]
  },
  {
   "cell_type": "markdown",
   "metadata": {},
   "source": [
    "## Unzip and reorder files\n",
    "* add sorting by dl date"
   ]
  },
  {
   "cell_type": "code",
   "execution_count": null,
   "metadata": {},
   "outputs": [],
   "source": [
    "zipfiles = list(Path(download_dir).glob('*/*.zip'))"
   ]
  },
  {
   "cell_type": "code",
   "execution_count": null,
   "metadata": {},
   "outputs": [],
   "source": [
    "COPY = 1\n",
    "for z in tqdm(zipfiles):\n",
    "    try:\n",
    "        if not util.check_zipcontent_exists(z, tiles_dir):\n",
    "            #print(util.check_zipcontent_exists(z, tiles_dir), z.stem, )\n",
    "            if COPY:\n",
    "                print('Copying', z)\n",
    "                shutil.copy(z, unzip_dir)\n",
    "    except:\n",
    "        print(f'Error on {z}')"
   ]
  },
  {
   "cell_type": "code",
   "execution_count": null,
   "metadata": {},
   "outputs": [],
   "source": [
    "#unzipfiles = list(unzip_dir.glob('*/*.zip'))\n",
    "unzipfiles = list(unzip_dir.glob('*.zip'))"
   ]
  },
  {
   "cell_type": "code",
   "execution_count": null,
   "metadata": {},
   "outputs": [],
   "source": [
    "for zfile in tqdm(unzipfiles[:]):\n",
    "    try:\n",
    "        %time util.unzip_PSOrthoTileOrder(zfile, target_dir=target_dir, cleanup_intermediate=False) #needs update for actual processing\n",
    "    except:\n",
    "        continue"
   ]
  },
  {
   "cell_type": "code",
   "execution_count": null,
   "metadata": {},
   "outputs": [],
   "source": [
    "dirlist = list(target_dir.glob('*'))\n",
    "\n",
    "dirlist = [d for d in dirlist if d.is_dir()]\n",
    "dirlist = [d for d in dirlist if len(d.stem.split('_'))==4]\n",
    "\n",
    "len(dirlist)"
   ]
  },
  {
   "cell_type": "code",
   "execution_count": null,
   "metadata": {},
   "outputs": [],
   "source": [
    "for d in tqdm(dirlist[:]):\n",
    "    path_id, tile_id, date, scene_id = d.stem.split('_')\n",
    "    tile_target = tiles_dir / tile_id / d.stem\n",
    "    os.makedirs(tiles_dir / tile_id, exist_ok=True)\n",
    "    if not tile_target.exists():\n",
    "        shutil.move(str(d), str(tile_target))\n",
    "    else:\n",
    "        print(f'{str(tiles_dir / tile_id)} exists')"
   ]
  },
  {
   "cell_type": "markdown",
   "metadata": {
    "tags": []
   },
   "source": [
    "#### Cleanup Zip Files and extracted data"
   ]
  },
  {
   "cell_type": "code",
   "execution_count": null,
   "metadata": {},
   "outputs": [],
   "source": [
    "for root, dirs, files in os.walk(unzip_dir):\n",
    "    for f in files:\n",
    "        os.unlink(os.path.join(root, f))\n",
    "    for d in dirs:\n",
    "        shutil.rmtree(os.path.join(root, d))"
   ]
  }
 ],
 "metadata": {
  "kernelspec": {
   "display_name": "Python 3 (ipykernel)",
   "language": "python",
   "name": "python3"
  },
  "language_info": {
   "codemirror_mode": {
    "name": "ipython",
    "version": 3
   },
   "file_extension": ".py",
   "mimetype": "text/x-python",
   "name": "python",
   "nbconvert_exporter": "python",
   "pygments_lexer": "ipython3",
   "version": "3.8.12"
  }
 },
 "nbformat": 4,
 "nbformat_minor": 4
}
