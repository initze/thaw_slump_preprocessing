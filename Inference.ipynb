{
 "cells": [
  {
   "cell_type": "markdown",
   "id": "bfdcd5f7-a067-4cb1-968c-c5850993b0ba",
   "metadata": {},
   "source": [
    "# Full inference run for PlanetScope Segmentation"
   ]
  },
  {
   "cell_type": "markdown",
   "id": "03b261e9-23fa-4ead-b321-281bdbb2c945",
   "metadata": {},
   "source": [
    "### Imports "
   ]
  },
  {
   "cell_type": "code",
   "execution_count": null,
   "id": "29e74fef-a7ef-4781-8af2-3e27aa38bf19",
   "metadata": {
    "tags": []
   },
   "outputs": [],
   "source": [
    "from pathlib import Path\n",
    "import torch\n",
    "import pandas as pd\n",
    "import os\n",
    "import numpy as np\n",
    "import tqdm\n",
    "from joblib import delayed, Parallel\n",
    "import shutil\n",
    "from tqdm.notebook import tqdm"
   ]
  },
  {
   "cell_type": "markdown",
   "id": "add8cb60-4322-4faf-bc7c-71e6f1dc2fef",
   "metadata": {},
   "source": [
    "### Settings "
   ]
  },
  {
   "cell_type": "code",
   "execution_count": null,
   "id": "b24dc2b3-1a89-46e7-ab4d-72e34eaeca8a",
   "metadata": {
    "tags": []
   },
   "outputs": [],
   "source": [
    "# Local code dir\n",
    "CODE_DIR = Path('/isipd/projects/p_aicore_pf/initze/code/aicore_inference')\n",
    "# Location of raw data\n",
    "RAW_DATA_DIR = Path('/isipd/projects/p_aicore_pf/initze/data/planet/planet_data_inference_grid/tiles')\n",
    "# Location data processing\n",
    "PROCESSING_DIR = Path('/isipd/projects/p_aicore_pf/initze/processing')\n",
    "# Target directory for\n",
    "INFERENCE_DIR = Path('/isipd/projects/p_aicore_pf/initze/processed/inference')\n",
    "\n",
    "# Target to models - RTS\n",
    "#MODEL_DIR = Path('/isipd/projects/p_aicore_pf/initze/models/thaw_slumps')\n",
    "#MODEL='RTS_v4'\n",
    "\n",
    "# Target to models - Water\n",
    "#MODEL_DIR = Path('/isipd/projects/p_aicore_pf/initze/models/water')\n",
    "#MODEL='Water_v5_1024'\n",
    "\n",
    "# Target to models - Pingos\n",
    "MODEL_DIR = Path('/isipd/projects/p_aicore_pf/initze/models/pingos')\n",
    "MODEL='pingo_UnetPP_v1_2021-12-12_09-56-50'\n",
    "\n",
    "#USE_GPU = [0,1,2,3,4,5,6,7]\n",
    "USE_GPU = [0,1,2,3,4,5]\n",
    "RUNS_PER_GPU = 5\n",
    "MAX_IMAGES = None"
   ]
  },
  {
   "cell_type": "code",
   "execution_count": null,
   "id": "88828a29-c409-49c6-91ae-a7300f2076e3",
   "metadata": {
    "tags": []
   },
   "outputs": [],
   "source": [
    "def run_inference(df, gpu=0, run=False, patch_size=1024, margin_size=256):\n",
    "    if len(df) == 0:\n",
    "        print('Empty dataframe')\n",
    "    else:\n",
    "        tiles = ' '.join(df.name.values)\n",
    "        run_string = f\"CUDA_VISIBLE_DEVICES='{gpu}' python inference.py -n {MODEL} --data_dir {PROCESSING_DIR} --inference_dir {INFERENCE_DIR}  --patch_size {patch_size} --margin_size {margin_size} {MODEL_DIR/MODEL} {tiles}\"\n",
    "        print(run_string)\n",
    "        if run:\n",
    "            os.system(run_string)\n",
    "\n",
    "def listdirs(rootdir):\n",
    "    dirs = []\n",
    "    for path in Path(rootdir).iterdir():\n",
    "        if path.is_dir():\n",
    "            #print(path)\n",
    "            dirs.append(path)\n",
    "    return dirs\n",
    "\n",
    "def listdirs2(rootdir, depth=0):\n",
    "    dirs = []\n",
    "    for path in Path(rootdir).iterdir():\n",
    "        if path.is_dir():\n",
    "            if depth == 1:\n",
    "                for path2 in Path(path).iterdir():\n",
    "                    if path2.is_dir():\n",
    "                        dirs.append(path2)\n",
    "            else:\n",
    "                dirs.append(path)\n",
    "    return dirs\n",
    "\n",
    "def get_PS_products_type(name):\n",
    "    if len(name.split('_')) == 3:\n",
    "        return 'PSScene'\n",
    "    elif len(name.split('_')) == 4:\n",
    "        return 'PSOrthoTile'\n",
    "    else:\n",
    "        None\n",
    "        \n",
    "def get_date_from_PSfilename(name):\n",
    "    date = name.split('_')[2]\n",
    "    return date\n",
    "    \n",
    "\n",
    "def get_datasets(path, depth=0, preprocessed=False):\n",
    "    dirs = listdirs2(path, depth=depth)\n",
    "    df = pd.DataFrame(data=dirs, columns=['path'])\n",
    "\n",
    "    df['name'] = df.apply(lambda x: x['path'].name, axis=1)\n",
    "    df['preprocessed'] = preprocessed\n",
    "    df['PS_product_type'] = df.apply(lambda x: get_PS_products_type(x['name']), axis=1)\n",
    "    df['image_date'] = df.apply(lambda x: get_date_from_PSfilename(x['name']), axis=1)\n",
    "    df['tile_id'] = df.apply(lambda x: x['name'].split('_')[1], axis=1)\n",
    "    return df\n",
    "\n",
    "def copy_unprocessed_files(row, processing_dir, quiet=True):\n",
    "    inpath = row['path']\n",
    "    outpath = processing_dir / 'input' / inpath.name\n",
    "\n",
    "    if not outpath.exists():\n",
    "        if not quiet:\n",
    "            print (f'Start copying {inpath.name} to {outpath}')\n",
    "        shutil.copytree(inpath, outpath)\n",
    "    else:\n",
    "        if not quiet:\n",
    "            print(f'Skipped copying {inpath.name}')\n",
    "\n",
    "def update_DEM(vrt_target_dir):\n",
    "    \"\"\"\n",
    "    Function to update elevation vrts\n",
    "    \"\"\"\n",
    "    os.system('./create_ArcticDEM.sh')\n",
    "    shutil.copy('elevation.vrt', vrt_target_dir)\n",
    "    shutil.copy('slope.vrt', vrt_target_dir)"
   ]
  },
  {
   "cell_type": "code",
   "execution_count": null,
   "id": "69da1247-807f-4ded-b390-03fc343813f6",
   "metadata": {
    "tags": []
   },
   "outputs": [],
   "source": [
    "def get_processing_status(raw_data_dir, procesing_dir, inference_dir, model):\n",
    "    # get raw tiles\n",
    "    df_raw = get_datasets(raw_data_dir, depth=1)\n",
    "    # get processed\n",
    "    df_processed = get_datasets(procesing_dir / 'tiles', depth=0, preprocessed=True)\n",
    "    # calculate prperties\n",
    "    diff = df_raw[~df_raw['name'].isin(df_processed['name'])]\n",
    "    df_merged = pd.concat([df_processed, diff]).reset_index()\n",
    "    \n",
    "    products_list = [prod.name for prod in list((inference_dir / model).glob('*'))]\n",
    "    df_merged['inference_finished'] = df_merged.apply(lambda x: x['name'] in (products_list), axis=1)\n",
    "    \n",
    "    return df_merged"
   ]
  },
  {
   "cell_type": "markdown",
   "id": "b281dd65-b5f4-429c-85ad-8b41f4575079",
   "metadata": {},
   "source": [
    "### List all files with properties"
   ]
  },
  {
   "cell_type": "code",
   "execution_count": null,
   "id": "c2de233b-68c0-4530-a9eb-08ed1f763c5b",
   "metadata": {
    "tags": []
   },
   "outputs": [],
   "source": [
    "df_processing_status = get_processing_status(RAW_DATA_DIR, PROCESSING_DIR, INFERENCE_DIR, MODEL)"
   ]
  },
  {
   "cell_type": "markdown",
   "id": "d4929c87-3dc4-480a-82a7-9017e9d29fc9",
   "metadata": {},
   "source": [
    "### Select Data "
   ]
  },
  {
   "cell_type": "markdown",
   "id": "f10e4245-94e1-4915-9644-73c479adc8f2",
   "metadata": {
    "tags": []
   },
   "source": [
    "#### Single file(s)"
   ]
  },
  {
   "cell_type": "code",
   "execution_count": null,
   "id": "c31b3fc4-8f49-43f8-a11c-3de6c9c58d06",
   "metadata": {
    "tags": []
   },
   "outputs": [],
   "source": [
    "image_ids = ['4767269_0370913_2021-08-05_227e']\n",
    "\n",
    "df_final = df_processing_status[df_processing_status['name'].isin([image_ids])]"
   ]
  },
  {
   "cell_type": "markdown",
   "id": "0df021c6-2026-413a-99fb-64ba41b07780",
   "metadata": {
    "tags": []
   },
   "source": [
    "#### Tile ID"
   ]
  },
  {
   "cell_type": "code",
   "execution_count": null,
   "id": "7bb7125d-9d90-4651-9b42-1dab44cb9457",
   "metadata": {
    "tags": []
   },
   "outputs": [],
   "source": [
    "tile_ids = ['0571410']\n",
    "\n",
    "df_final = df_processing_status[df_processing_status['tile_id'].isin(tile_ids)]\n",
    "print(f'Number of images: {len(df_final)}')\n",
    "print(f'Number of preprocessed images: {df_final.preprocessed.sum()}')"
   ]
  },
  {
   "cell_type": "markdown",
   "id": "35d0f8fa-a2ca-4091-8ce9-d01a8fb03378",
   "metadata": {
    "tags": []
   },
   "source": [
    "#### Tile_ID with regex"
   ]
  },
  {
   "cell_type": "code",
   "execution_count": null,
   "id": "48df776c-5b12-4389-8a2d-2912efbf8c6f",
   "metadata": {
    "tags": []
   },
   "outputs": [],
   "source": [
    "tile_id_start = '03'\n",
    "\n",
    "df_final = df_processing_status[df_processing_status.tile_id.str.startswith(tile_id_start)]\n",
    "print(f'Number of images: {len(df_final)}')\n",
    "print(f'Number of preprocessed images: {df_final.preprocessed.sum()}')\n",
    "print(f'Number of finished images: {df_final.inference_finished.sum()}')"
   ]
  },
  {
   "cell_type": "markdown",
   "id": "9a8c7c8b-4f94-455e-8576-0e7a7e4875ab",
   "metadata": {},
   "source": [
    "### Full Set "
   ]
  },
  {
   "cell_type": "code",
   "execution_count": null,
   "id": "ed601f23-f5b9-4b02-abd3-c171fe2c7583",
   "metadata": {
    "tags": []
   },
   "outputs": [],
   "source": [
    "df_final = df_processing_status\n",
    "print(f'Number of images: {len(df_final)}')\n",
    "print(f'Number of preprocessed images: {df_final.preprocessed.sum()}')\n",
    "print(f'Number of finished images: {df_final.inference_finished.sum()}')"
   ]
  },
  {
   "cell_type": "markdown",
   "id": "15dff172-5276-4db5-a898-579f9a309876",
   "metadata": {},
   "source": [
    "## Preprocessing"
   ]
  },
  {
   "cell_type": "markdown",
   "id": "bc67d6c8-99c4-471c-b0bd-6318eb03fb2a",
   "metadata": {
    "tags": []
   },
   "source": [
    "#### Update Arctic DEM data "
   ]
  },
  {
   "cell_type": "code",
   "execution_count": null,
   "id": "da432492-8ce3-4fce-a24f-ee69ef019730",
   "metadata": {
    "tags": []
   },
   "outputs": [],
   "source": [
    "vrt_target_dir = Path('../../processing/auxiliary/ArcticDEM')\n",
    "update_DEM(vrt_target_dir)"
   ]
  },
  {
   "cell_type": "markdown",
   "id": "0735b68b-89a2-4b19-8a03-5ae63f17a704",
   "metadata": {},
   "source": [
    "#### Copy data for Preprocessing "
   ]
  },
  {
   "cell_type": "code",
   "execution_count": null,
   "id": "ad6537fa-dd60-466e-b03e-3dde628f5a16",
   "metadata": {
    "tags": []
   },
   "outputs": [],
   "source": [
    "df_preprocess = df_final[~df_final.preprocessed]\n",
    "print(f'Number of images to preprocess: {len(df_preprocess)}')\n",
    "\n",
    "df_preprocess.apply(lambda x: copy_unprocessed_files(x, PROCESSING_DIR), axis=1)"
   ]
  },
  {
   "cell_type": "markdown",
   "id": "41e0a3c2-ecb2-4aee-9c79-22707c334d82",
   "metadata": {},
   "source": [
    "#### Run Preprocessing "
   ]
  },
  {
   "cell_type": "code",
   "execution_count": null,
   "id": "69607788-951b-49b9-bfe1-28f8286f4ab0",
   "metadata": {
    "tags": []
   },
   "outputs": [],
   "source": [
    "import warnings\n",
    "warnings.filterwarnings('ignore')\n",
    "\n",
    "print(f'Preprocessing {len(df_preprocess)} images')\n",
    "if len(df_preprocess) > 0:\n",
    "    pp_string = f'python setup_raw_data.py --data_dir {PROCESSING_DIR} --nolabel'\n",
    "    os.system(pp_string)"
   ]
  },
  {
   "cell_type": "markdown",
   "id": "f5a29b91-f393-44bc-a1e5-f23171191994",
   "metadata": {},
   "source": [
    "## Processing/Inference"
   ]
  },
  {
   "cell_type": "markdown",
   "id": "05865cc2-4848-4352-af31-bd7a55b89051",
   "metadata": {},
   "source": [
    "#### Parallel runs "
   ]
  },
  {
   "cell_type": "code",
   "execution_count": null,
   "id": "0c0afc87-47fe-423e-93e1-86bbdd6b7950",
   "metadata": {
    "tags": []
   },
   "outputs": [],
   "source": [
    "#df_process = df_final[df_final.preprocessed]\n",
    "df_process = df_final[~df_final.inference_finished].iloc[:MAX_IMAGES]\n",
    "#df_process = df_final\n",
    "\n",
    "n_splits = len(USE_GPU) * RUNS_PER_GPU\n",
    "df_split = np.array_split(df_process, n_splits)\n",
    "gpu_split = USE_GPU * RUNS_PER_GPU"
   ]
  },
  {
   "cell_type": "code",
   "execution_count": null,
   "id": "769bcb9e-4f29-4f22-817c-87bebd21399e",
   "metadata": {
    "tags": []
   },
   "outputs": [],
   "source": [
    "for split in df_split:\n",
    "    print(f'Number of images: {len(split)}')"
   ]
  },
  {
   "cell_type": "markdown",
   "id": "5b10eee0-e66c-45f8-b458-a5c6c4a5fa5a",
   "metadata": {},
   "source": [
    "### Parallel Inference execution"
   ]
  },
  {
   "cell_type": "code",
   "execution_count": null,
   "id": "ca4c1d8c-194c-44a6-9feb-013e29e97fcf",
   "metadata": {
    "tags": []
   },
   "outputs": [],
   "source": [
    "Parallel(n_jobs=n_splits)(delayed(run_inference)(df_split[split], gpu=gpu_split[split], run=True) for split in range(n_splits))"
   ]
  },
  {
   "cell_type": "code",
   "execution_count": null,
   "id": "2c544ab8-739d-4075-9e73-827fffa8d481",
   "metadata": {
    "tags": []
   },
   "outputs": [],
   "source": []
  },
  {
   "cell_type": "code",
   "execution_count": null,
   "id": "f6ec23dd-a0fb-4f76-aad1-8c98f0cbd68d",
   "metadata": {},
   "outputs": [],
   "source": []
  },
  {
   "cell_type": "code",
   "execution_count": null,
   "id": "af2cf766-6eb9-4da0-bb1c-ed5f340ce7e3",
   "metadata": {},
   "outputs": [],
   "source": []
  },
  {
   "cell_type": "code",
   "execution_count": null,
   "id": "0f38f9a8-a866-4378-bea2-ca571565504f",
   "metadata": {},
   "outputs": [],
   "source": []
  },
  {
   "cell_type": "markdown",
   "id": "b29af7f8-6bf1-438f-b018-07a92c9e59e7",
   "metadata": {},
   "source": [
    "### Single image"
   ]
  },
  {
   "cell_type": "code",
   "execution_count": null,
   "id": "ab8af986-662e-4ad6-8569-c214fe0a82d3",
   "metadata": {
    "tags": []
   },
   "outputs": [],
   "source": [
    "image_id = '4767269_0370913_2021-08-05_227e'\n",
    "dslist = list(RAW_DATA_DIR.glob(f'**/*{image_id}*'))\n",
    "processing_ds = [ds for ds in dslist if ds.is_dir()][0]"
   ]
  },
  {
   "cell_type": "code",
   "execution_count": null,
   "id": "8aafeeb5-a40d-42c3-99b8-b09c06dea09d",
   "metadata": {
    "tags": []
   },
   "outputs": [],
   "source": [
    "dslist = list(PROCESSING_DIR.glob(f'**/*{image_id}*'))\n",
    "processed_ds = [ds for ds in dslist if ds.is_dir()][0]"
   ]
  },
  {
   "cell_type": "code",
   "execution_count": null,
   "id": "fe8f176c-70b6-4a45-9071-2fc054dd17b5",
   "metadata": {},
   "outputs": [],
   "source": []
  },
  {
   "cell_type": "code",
   "execution_count": null,
   "id": "48ee06f4-d945-4b4e-b4c3-7fc38620d36d",
   "metadata": {},
   "outputs": [],
   "source": []
  },
  {
   "cell_type": "markdown",
   "id": "76f03a03-8d09-4193-b621-7d6a159b3da3",
   "metadata": {},
   "source": [
    "#### single run "
   ]
  },
  {
   "cell_type": "code",
   "execution_count": null,
   "id": "3b397dce-292b-425d-ac53-af892b9bf856",
   "metadata": {},
   "outputs": [],
   "source": [
    "tiles = ''.join(df_final.name.values)\n",
    "run_string = f\"CUDA_VISIBLE_DEVICES='4' python inference.py -n {MODEL} --data_dir {PROCESSING_DIR} --inference_dir {INFERENCE_DIR} {MODEL_DIR/MODEL} {tiles}\"\n",
    "os.system(run_string)"
   ]
  }
 ],
 "metadata": {
  "kernelspec": {
   "display_name": "Python 3 (ipykernel)",
   "language": "python",
   "name": "python3"
  },
  "language_info": {
   "codemirror_mode": {
    "name": "ipython",
    "version": 3
   },
   "file_extension": ".py",
   "mimetype": "text/x-python",
   "name": "python",
   "nbconvert_exporter": "python",
   "pygments_lexer": "ipython3",
   "version": "3.7.12"
  }
 },
 "nbformat": 4,
 "nbformat_minor": 5
}
