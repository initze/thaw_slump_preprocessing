{
 "cells": [
  {
   "cell_type": "markdown",
   "metadata": {},
   "source": [
    "# Trigger ArcticDEM Download "
   ]
  },
  {
   "cell_type": "markdown",
   "metadata": {},
   "source": [
    "* run with arcticdem environment: aicore has geopandas/pyproj issues"
   ]
  },
  {
   "cell_type": "code",
   "execution_count": null,
   "metadata": {},
   "outputs": [],
   "source": [
    "import ee\n",
    "import os\n",
    "import geopandas as gpd\n",
    "import glob\n",
    "%config Completer.use_jedi = False\n",
    "from modules.utils import *\n",
    "import datetime"
   ]
  },
  {
   "cell_type": "code",
   "execution_count": null,
   "metadata": {},
   "outputs": [],
   "source": [
    "ee.Initialize()"
   ]
  },
  {
   "cell_type": "markdown",
   "metadata": {},
   "source": [
    "### Settings\n",
    "\n",
    "#### Paths"
   ]
  },
  {
   "cell_type": "code",
   "execution_count": null,
   "metadata": {},
   "outputs": [],
   "source": [
    "FILEPATH = r'vector/RapidEye_Tiles.shp'\n",
    "TS_FIELD = 'dem_order'\n",
    "\n",
    "GDrive_dir_elevation = 'AI-CORE/elevation'\n",
    "GDrive_dir_slope = 'AI-CORE/slope'"
   ]
  },
  {
   "cell_type": "markdown",
   "metadata": {},
   "source": [
    "#### Setup GEE Datasets "
   ]
  },
  {
   "cell_type": "code",
   "execution_count": null,
   "metadata": {},
   "outputs": [],
   "source": [
    "slope = get_ArcticDEM_slope()"
   ]
  },
  {
   "cell_type": "code",
   "execution_count": null,
   "metadata": {},
   "outputs": [],
   "source": [
    "rel_el_100 = get_ArcticDEM_rel_el(kernel_size=100)"
   ]
  },
  {
   "cell_type": "markdown",
   "metadata": {},
   "source": [
    "#### Setup data "
   ]
  },
  {
   "cell_type": "code",
   "execution_count": null,
   "metadata": {},
   "outputs": [],
   "source": [
    "gdf = gpd.read_file(FILEPATH)#.to_crs('EPSG:4326')"
   ]
  },
  {
   "cell_type": "markdown",
   "metadata": {},
   "source": [
    "#### filter to only one tile "
   ]
  },
  {
   "cell_type": "markdown",
   "metadata": {},
   "source": [
    "**open QGIS, select tiles and run the follwing code in the python console:**\n",
    "\n",
    "layer = qgis.utils.iface.activeLayer()\n",
    "\n",
    "selected_features = layer.selectedFeatures()\n",
    "\n",
    "[f['tile_id'] for f in selected_features]"
   ]
  },
  {
   "cell_type": "code",
   "execution_count": null,
   "metadata": {},
   "outputs": [],
   "source": [
    "field = 'tile_id'\n",
    "# insert list of tile_ids to process here\n",
    "idxs = []"
   ]
  },
  {
   "cell_type": "markdown",
   "metadata": {},
   "source": [
    "#### run process"
   ]
  },
  {
   "cell_type": "code",
   "execution_count": null,
   "metadata": {},
   "outputs": [],
   "source": [
    "tasks_slope = []\n",
    "tasks_el = []\n",
    "\n",
    "for idx in idxs:\n",
    "    # need to drop column: 'downloaded which may contain NaN values'\n",
    "    gdf_filt = gdf.query(f'{field} == {idx}')#.drop(columns='downloaded')\n",
    "    tasks_slope.append(download_ee2(gdf_filt, slope, GDrive_dir=GDrive_dir_elevation, scale=2,  suffix='_slope', field=field))\n",
    "    tasks_el.append(download_ee2(gdf_filt, rel_el_100, GDrive_dir=GDrive_dir_slope, scale=2,  suffix='_relative_elevation_100', field=field))\n",
    "    \n",
    "    gdf.loc[gdf_filt.index, TS_FIELD] = datetime.datetime.now().isoformat()"
   ]
  },
  {
   "cell_type": "code",
   "execution_count": null,
   "metadata": {},
   "outputs": [],
   "source": [
    "print('Running Tasks:')\n",
    "for tasks in [tasks_el, tasks_slope]:\n",
    "    print([t.status()['description'] for t in tasks if t.status()['state'] == 'RUNNING'])"
   ]
  },
  {
   "cell_type": "code",
   "execution_count": null,
   "metadata": {},
   "outputs": [],
   "source": [
    "print('Completed Tasks:')\n",
    "for tasks in [tasks_el, tasks_slope]:\n",
    "    print([t.status()['description'] for t in tasks if t.status()['state'] == 'COMPLETED'])\n",
    "#[t.status()['description'] for t in tasks if t.status()['state'] == 'COMPLETED']"
   ]
  },
  {
   "cell_type": "markdown",
   "metadata": {},
   "source": [
    "#### Save updated gdf "
   ]
  },
  {
   "cell_type": "code",
   "execution_count": null,
   "metadata": {},
   "outputs": [],
   "source": [
    "gdf.to_file(FILEPATH)"
   ]
  },
  {
   "cell_type": "markdown",
   "metadata": {},
   "source": [
    "#### control"
   ]
  },
  {
   "cell_type": "code",
   "execution_count": null,
   "metadata": {},
   "outputs": [],
   "source": [
    "gdf.dropna(subset=['dem_order'], axis=0)"
   ]
  }
 ],
 "metadata": {
  "kernelspec": {
   "display_name": "Python 3 (ipykernel)",
   "language": "python",
   "name": "python3"
  },
  "language_info": {
   "codemirror_mode": {
    "name": "ipython",
    "version": 3
   },
   "file_extension": ".py",
   "mimetype": "text/x-python",
   "name": "python",
   "nbconvert_exporter": "python",
   "pygments_lexer": "ipython3",
   "version": "3.8.12"
  }
 },
 "nbformat": 4,
 "nbformat_minor": 2
}
