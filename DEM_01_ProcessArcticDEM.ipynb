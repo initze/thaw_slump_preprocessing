{
 "cells": [
  {
   "cell_type": "markdown",
   "metadata": {},
   "source": [
    "# Trigger ArcticDEM Download "
   ]
  },
  {
   "cell_type": "markdown",
   "metadata": {},
   "source": [
    "* run with arcticdem environment: aicore has geopandas/pyproj issues"
   ]
  },
  {
   "cell_type": "code",
   "execution_count": null,
   "metadata": {},
   "outputs": [],
   "source": [
    "import ee\n",
    "import os\n",
    "import geopandas as gpd\n",
    "import glob\n",
    "%config Completer.use_jedi = False\n",
    "from modules.utils import *\n",
    "import datetime\n",
    "import shutil\n",
    "import tqdm"
   ]
  },
  {
   "cell_type": "code",
   "execution_count": null,
   "metadata": {},
   "outputs": [],
   "source": [
    "ee.Initialize()"
   ]
  },
  {
   "cell_type": "markdown",
   "metadata": {},
   "source": [
    "### Settings\n",
    "\n",
    "#### Paths"
   ]
  },
  {
   "cell_type": "code",
   "execution_count": null,
   "metadata": {},
   "outputs": [],
   "source": [
    "FILEPATH = r'vector/RapidEye_Tiles.shp'\n",
    "TS_FIELD = 'dem_order'"
   ]
  },
  {
   "cell_type": "markdown",
   "metadata": {},
   "source": [
    "#### Setup GEE Datasets "
   ]
  },
  {
   "cell_type": "code",
   "execution_count": null,
   "metadata": {},
   "outputs": [],
   "source": [
    "slope = get_ArcticDEM_slope()"
   ]
  },
  {
   "cell_type": "code",
   "execution_count": null,
   "metadata": {},
   "outputs": [],
   "source": [
    "rel_el_100 = get_ArcticDEM_rel_el(kernel_size=100)"
   ]
  },
  {
   "cell_type": "markdown",
   "metadata": {
    "tags": []
   },
   "source": [
    "#### Setup data\n",
    "* faster loading?\n",
    "* https://geopandas.org/en/stable/docs/user_guide/io.html\n",
    "```python\n",
    "gdf = geopandas.read_file(\n",
    "    geopandas.datasets.get_path(\"naturalearth_lowres\"),\n",
    "    ignore_fields=[\"iso_a3\", \"gdp_md_est\"],\n",
    ")\n",
    "```"
   ]
  },
  {
   "cell_type": "code",
   "execution_count": null,
   "metadata": {},
   "outputs": [],
   "source": [
    "gdf = gpd.read_file(FILEPATH)#.to_crs('EPSG:4326')"
   ]
  },
  {
   "cell_type": "markdown",
   "metadata": {},
   "source": [
    "### Manual Selection"
   ]
  },
  {
   "cell_type": "markdown",
   "metadata": {},
   "source": [
    "**open QGIS, select tiles and run the follwing code in the python console:**\n",
    "\n",
    "layer = qgis.utils.iface.activeLayer()\n",
    "\n",
    "selected_features = layer.selectedFeatures()\n",
    "\n",
    "[f['tile_id'] for f in selected_features]"
   ]
  },
  {
   "cell_type": "code",
   "execution_count": null,
   "metadata": {},
   "outputs": [],
   "source": [
    "field = 'tile_id'\n",
    "#list tile_ids here\n",
    "idxs = []"
   ]
  },
  {
   "cell_type": "markdown",
   "metadata": {},
   "source": [
    "### Auto selection of active and incomplete Locations "
   ]
  },
  {
   "cell_type": "markdown",
   "metadata": {},
   "source": [
    "#### Query where\n",
    "ArtcicDEM is not processed\n",
    "Planet is downloaded"
   ]
  },
  {
   "cell_type": "markdown",
   "metadata": {},
   "source": [
    "Temporary"
   ]
  },
  {
   "cell_type": "code",
   "execution_count": null,
   "metadata": {},
   "outputs": [],
   "source": [
    "existing_planet_data = gdf[['pl_2018','pl_2019','pl_2020','pl_2021', 'pl_2022']].any(axis=1)\n",
    "field = 'tile_id'\n",
    "idxs = list(gdf[existing_planet_data & gdf.dem_order.isna()][field].values)"
   ]
  },
  {
   "cell_type": "code",
   "execution_count": null,
   "metadata": {},
   "outputs": [],
   "source": [
    "len(idxs)"
   ]
  },
  {
   "cell_type": "markdown",
   "metadata": {},
   "source": [
    "### Start Processing DEM Tiles"
   ]
  },
  {
   "cell_type": "code",
   "execution_count": null,
   "metadata": {},
   "outputs": [],
   "source": [
    "tasks_slope = []\n",
    "tasks_el = []\n",
    "\n",
    "for idx in idxs:\n",
    "    # need to drop column: 'downloaded which may contain NaN values'\n",
    "    gdf_filt = gdf.query(f'{field} == {idx}')#.drop(columns='downloaded')\n",
    "    tasks_slope.append(download_ee2(gdf_filt, slope, GDrive_dir='AI-CORE/slope', scale=2,  suffix='_slope', field=field))\n",
    "    tasks_el.append(download_ee2(gdf_filt, rel_el_100, GDrive_dir='AI-CORE/elevation', scale=2,  suffix='_relative_elevation_100', field=field))\n",
    "    \n",
    "    gdf.loc[gdf_filt.index, TS_FIELD] = datetime.datetime.now().isoformat()"
   ]
  },
  {
   "cell_type": "markdown",
   "metadata": {},
   "source": [
    "#### Show Running tasks "
   ]
  },
  {
   "cell_type": "code",
   "execution_count": null,
   "metadata": {},
   "outputs": [],
   "source": [
    "print('Running Tasks:')\n",
    "for tasks in [tasks_el, tasks_slope]:\n",
    "    print([t.status()['description'] for t in tasks if t.status()['state'] == 'RUNNING'])"
   ]
  },
  {
   "cell_type": "markdown",
   "metadata": {},
   "source": [
    "#### Show finished tasks "
   ]
  },
  {
   "cell_type": "code",
   "execution_count": null,
   "metadata": {},
   "outputs": [],
   "source": [
    "print('Completed Tasks:')\n",
    "for tasks in [tasks_el, tasks_slope]:\n",
    "    print([t.status()['description'] for t in tasks if t.status()['state'] == 'COMPLETED'])\n",
    "#[t.status()['description'] for t in tasks if t.status()['state'] == 'COMPLETED']"
   ]
  },
  {
   "cell_type": "markdown",
   "metadata": {},
   "source": [
    "#### Save updated gdf "
   ]
  },
  {
   "cell_type": "code",
   "execution_count": null,
   "metadata": {},
   "outputs": [],
   "source": [
    "gdf.to_file(FILEPATH)"
   ]
  },
  {
   "cell_type": "markdown",
   "metadata": {},
   "source": [
    "#### control"
   ]
  },
  {
   "cell_type": "code",
   "execution_count": null,
   "metadata": {},
   "outputs": [],
   "source": [
    "gdf.dropna(subset=['dem_order'], axis=0)"
   ]
  },
  {
   "cell_type": "markdown",
   "metadata": {},
   "source": [
    "### Move processed files"
   ]
  },
  {
   "cell_type": "code",
   "execution_count": null,
   "metadata": {},
   "outputs": [],
   "source": [
    "download_dir = Path(r'O:\\My Drive')\n",
    "target_dir = Path('Q:\\p_aicore_pf\\initze\\data\\ArcticDEM')\n",
    "\n",
    "src_elevation = download_dir / 'AI-CORE elevation'\n",
    "src_slope = download_dir / 'AI-CORE slope'\n",
    "tgt_elevation = target_dir / 'tiles_rel_el'\n",
    "tgt_slope = target_dir / 'tiles_slope'"
   ]
  },
  {
   "cell_type": "code",
   "execution_count": null,
   "metadata": {},
   "outputs": [],
   "source": [
    "el_list = list(src_elevation.glob('*.tif'))\n",
    "for f in tqdm.tqdm_notebook(el_list[:]):\n",
    "    try:\n",
    "        shutil.move(str(f), tgt_elevation)\n",
    "    except:\n",
    "        print(f'{str(f)} already exists')\n",
    "        continue"
   ]
  },
  {
   "cell_type": "code",
   "execution_count": null,
   "metadata": {},
   "outputs": [],
   "source": [
    "slope_list = list(src_slope.glob('*.tif'))\n",
    "for f in tqdm.tqdm_notebook(slope_list[:]):\n",
    "    try:\n",
    "        shutil.move(str(f), tgt_slope)\n",
    "    except:\n",
    "        print(f'{str(f)} already exists')\n",
    "        continue"
   ]
  },
  {
   "cell_type": "code",
   "execution_count": null,
   "metadata": {},
   "outputs": [],
   "source": []
  }
 ],
 "metadata": {
  "kernelspec": {
   "display_name": "Python 3 (ipykernel)",
   "language": "python",
   "name": "python3"
  },
  "language_info": {
   "codemirror_mode": {
    "name": "ipython",
    "version": 3
   },
   "file_extension": ".py",
   "mimetype": "text/x-python",
   "name": "python",
   "nbconvert_exporter": "python",
   "pygments_lexer": "ipython3",
   "version": "3.8.12"
  }
 },
 "nbformat": 4,
 "nbformat_minor": 4
}
