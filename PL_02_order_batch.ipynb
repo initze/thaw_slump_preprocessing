{
 "cells": [
  {
   "cell_type": "code",
   "execution_count": null,
   "id": "d100ce3e-0009-4010-b3d1-efbbcf665f05",
   "metadata": {},
   "outputs": [],
   "source": [
    "from pathlib import Path \n",
    "import geopandas as gpd\n",
    "import pandas as pd\n",
    "import os\n",
    "import datetime\n",
    "import modules.order_utils as util"
   ]
  },
  {
   "cell_type": "markdown",
   "id": "3542cac7-0ebc-4a61-855f-abcbc471458e",
   "metadata": {},
   "source": [
    "#### Create query "
   ]
  },
  {
   "cell_type": "markdown",
   "id": "b6dcf128-9549-4767-940f-efd7dafab4c6",
   "metadata": {},
   "source": [
    "#### Load big datasets "
   ]
  },
  {
   "cell_type": "code",
   "execution_count": null,
   "id": "64fff0f8-c184-42dd-a216-e8d27c275107",
   "metadata": {},
   "outputs": [],
   "source": [
    "FILEPATH = Path(r'vector/RapidEye_Tiles.shp')\n",
    "df_tiles = gpd.read_file(FILEPATH)"
   ]
  },
  {
   "cell_type": "code",
   "execution_count": null,
   "id": "2ccd1794-93db-453b-af53-f81b828cdb41",
   "metadata": {},
   "outputs": [],
   "source": [
    "# load list of existing datasets\n",
    "DATA_DIR = Path(r'Q:\\p_aicore_pf\\initze\\data\\planet\\planet_data_inference_grid\\tiles')\n",
    "df_existing = util.get_existing_files(DATA_DIR)\n",
    "existing_datasets = df_existing.dataset_id.unique()"
   ]
  },
  {
   "cell_type": "markdown",
   "id": "d001446d-2e87-44bf-9a3b-3f52015b76bc",
   "metadata": {},
   "source": [
    "#### Settings"
   ]
  },
  {
   "cell_type": "code",
   "execution_count": null,
   "id": "ed52505f-6c92-4715-9e66-ec5bd3ca0ba6",
   "metadata": {},
   "outputs": [],
   "source": [
    "#TILE_ID = 5771415#5671617#\n",
    "TILE_ID = 870513\n",
    "PROCESSING_DIR = Path(r'C:\\Users\\initze\\OneDrive\\100_AI-CORE\\05_planet_order\\AOIS')\n",
    "YEAR = '2021'\n",
    "START = f'{YEAR}-06-01'\n",
    "END = f'{YEAR}-09-15'\n",
    "ITEM = 'PSOrthoTile'\n",
    "ASSET = 'analytic_sr_udm2'\n",
    "ASSET_QUERY = 'analytic_sr'\n",
    "CLOUD_MIN = 90\n",
    "CSV_FILE = PROCESSING_DIR / f'{TILE_ID}.csv'\n",
    "CSV_FILE_ORDER = PROCESSING_DIR / f'{TILE_ID}_order.csv'"
   ]
  },
  {
   "cell_type": "markdown",
   "id": "b5edd23d-818e-4d35-b3a0-005baff82a7f",
   "metadata": {},
   "source": [
    "#### Create AOI"
   ]
  },
  {
   "cell_type": "code",
   "execution_count": null,
   "id": "60d5a6b9-9b94-4dd5-a9db-6317503a4f10",
   "metadata": {},
   "outputs": [],
   "source": [
    "# filter to tile_id and save a geojson\n",
    "filtered = df_tiles.query(f'tile_id in ({TILE_ID},)')\n",
    "vector_file = PROCESSING_DIR / f'{TILE_ID}.geojson'\n",
    "filtered.to_file(vector_file)"
   ]
  },
  {
   "cell_type": "markdown",
   "id": "e0b4a750-cc90-4c23-b4b6-87f853ac9cfa",
   "metadata": {},
   "source": [
    "#### Run Query for data"
   ]
  },
  {
   "cell_type": "code",
   "execution_count": null,
   "id": "cb2a587d-df1e-4359-83e6-332ca32b479d",
   "metadata": {},
   "outputs": [],
   "source": [
    "#setup porder query\n",
    "s = f'porder idlist --input {vector_file} --start \"{START}\" --end \"{END}\" --item \"{ITEM}\" --asset \"{ASSET_QUERY}\" --filters range:clear_percent:{CLOUD_MIN}:100 --outfile {CSV_FILE}'\n",
    "\n",
    "# run porder query\n",
    "print(s)\n",
    "os.system(s)"
   ]
  },
  {
   "cell_type": "markdown",
   "id": "06256a4b-c467-478c-bf88-a7cf84cdaebc",
   "metadata": {},
   "source": [
    "#### Filter for relevant datasets\n",
    "* selected tile_id\n",
    "* non existing"
   ]
  },
  {
   "cell_type": "code",
   "execution_count": null,
   "id": "8df15813-44a6-4de0-ab67-492a8ad89cc7",
   "metadata": {},
   "outputs": [],
   "source": [
    "try:\n",
    "    # open csv and filter\n",
    "    df = pd.read_csv(CSV_FILE, header=None).rename(columns={0:'dataset_id'})\n",
    "    # filter by tile_id (original query takes neighboring tiles as well \n",
    "    df['tile_id'] = df.apply(lambda x:x[0].split('_')[1], axis=1)\n",
    "except:\n",
    "    print('No data')\n",
    "\n",
    "# filter by tile_id\n",
    "df_filtered = df.query(f'tile_id in (\"{TILE_ID:07}\",)')\n",
    "# filter by existing datasets\n",
    "df_filtered2 = df_filtered[~df_filtered['dataset_id'].isin(existing_datasets)]\n",
    "\n",
    "print(len(df), len(df_filtered), len(df_filtered2))\n",
    "\n",
    "df_filtered2"
   ]
  },
  {
   "cell_type": "markdown",
   "id": "726b63fa-a13e-4740-b83d-3d3786f13e04",
   "metadata": {},
   "source": [
    "####  Save to order csv"
   ]
  },
  {
   "cell_type": "code",
   "execution_count": null,
   "id": "d6633349-b6b0-4163-ac45-89f4db3ea07e",
   "metadata": {},
   "outputs": [],
   "source": [
    "# save to order csv\n",
    "output = df_filtered2.iloc[:]['dataset_id']\n",
    "output.to_csv(CSV_FILE_ORDER, header=None, index=None)"
   ]
  },
  {
   "cell_type": "markdown",
   "id": "a4890e45-7e48-4f02-bc9b-1ab21afe96cb",
   "metadata": {},
   "source": [
    "#### Setup Order\n",
    "* test --op zip and --op zipall\n",
    "* **zipall has same structure as QGIS**"
   ]
  },
  {
   "cell_type": "code",
   "execution_count": null,
   "id": "314912cc-0519-4b9c-9259-6a95fcce5a78",
   "metadata": {},
   "outputs": [],
   "source": [
    "s_idcheck = f'porder idcheck --idlist {CSV_FILE_ORDER} --item {ITEM} --asset {ASSET_QUERY}'\n",
    "s_order = f'porder order --name {TILE_ID}_{START}_{END} --idlist {CSV_FILE_ORDER} --item {ITEM} --bundle {ASSET} --op zipall'\n",
    "\n",
    "print('Order:', s_order)\n",
    "print('\\nID check:', s_idcheck)"
   ]
  },
  {
   "cell_type": "markdown",
   "id": "bf8519cd-cb80-4ed9-8505-a90387bf1cbb",
   "metadata": {},
   "source": [
    "#### Kick-Off Order "
   ]
  },
  {
   "cell_type": "code",
   "execution_count": null,
   "id": "44e101c2-eb93-4413-8994-0dfe86a763d4",
   "metadata": {},
   "outputs": [],
   "source": [
    "os.system(s_order)"
   ]
  },
  {
   "cell_type": "markdown",
   "id": "234d50a1-d009-4c4c-8037-9db4da193eb4",
   "metadata": {},
   "source": [
    "### Show Orders "
   ]
  },
  {
   "cell_type": "code",
   "execution_count": null,
   "id": "b0e2a06c-91f1-4375-8459-2dbcbc47c744",
   "metadata": {},
   "outputs": [],
   "source": [
    "today = datetime.datetime.now().strftime('%Y-%m-%d')\n",
    "start = (datetime.datetime.now() - datetime.timedelta(10)).strftime('%Y-%m-%d')\n",
    "running = !porder ostate --state running --start \"{start}\" --end \"{today}\"\n",
    "util.show_orders(running)"
   ]
  },
  {
   "cell_type": "code",
   "execution_count": null,
   "id": "a9ff7182-2ddc-402f-b609-a10e0c29f5ba",
   "metadata": {},
   "outputs": [],
   "source": []
  },
  {
   "cell_type": "code",
   "execution_count": null,
   "id": "7c9db974-8ba2-4d67-acf3-6e0fea51e73c",
   "metadata": {},
   "outputs": [],
   "source": [
    "!pobatch quota"
   ]
  },
  {
   "cell_type": "code",
   "execution_count": null,
   "id": "a6c9be07-ff5d-4317-abab-1de60106dbc1",
   "metadata": {},
   "outputs": [],
   "source": []
  }
 ],
 "metadata": {
  "kernelspec": {
   "display_name": "Python 3 (ipykernel)",
   "language": "python",
   "name": "python3"
  },
  "language_info": {
   "codemirror_mode": {
    "name": "ipython",
    "version": 3
   },
   "file_extension": ".py",
   "mimetype": "text/x-python",
   "name": "python",
   "nbconvert_exporter": "python",
   "pygments_lexer": "ipython3",
   "version": "3.8.12"
  }
 },
 "nbformat": 4,
 "nbformat_minor": 5
}
